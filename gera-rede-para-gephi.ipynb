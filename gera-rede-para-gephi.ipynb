{
  "nbformat": 4,
  "nbformat_minor": 0,
  "metadata": {
    "kernelspec": {
      "display_name": "Python 3",
      "language": "python",
      "name": "python3"
    },
    "language_info": {
      "codemirror_mode": {
        "name": "ipython",
        "version": 3
      },
      "file_extension": ".py",
      "mimetype": "text/x-python",
      "name": "python",
      "nbconvert_exporter": "python",
      "pygments_lexer": "ipython3",
      "version": "3.6.1"
    },
    "colab": {
      "name": "Rede de artistas relacionados Spotify -> Gephi",
      "provenance": [],
      "collapsed_sections": [],
      "include_colab_link": true
    }
  },
  "cells": [
    {
      "cell_type": "markdown",
      "metadata": {
        "id": "view-in-github",
        "colab_type": "text"
      },
      "source": [
        "<a href=\"https://colab.research.google.com/github/nazareno/redes-do-spotify/blob/main/gera-rede-para-gephi.ipynb\" target=\"_parent\"><img src=\"https://colab.research.google.com/assets/colab-badge.svg\" alt=\"Open In Colab\"/></a>"
      ]
    },
    {
      "cell_type": "markdown",
      "metadata": {
        "id": "bY9gG2gxbqgJ"
      },
      "source": [
        "Baseado [nesse notebook](https://gist.github.com/Kautenja/71f139eee58099b77e91a0d775e42b47#file-visualizing-spotify-related-artists-with-gephi-ipynb) de @Kautenja no gist. "
      ]
    },
    {
      "cell_type": "markdown",
      "metadata": {
        "id": "hm1KvwK5AFMa"
      },
      "source": [
        "# Spotify API\n",
        "\n",
        "instead of directly interacting with the Spotify Restful API, I use a lightweight Python wrapper for ease."
      ]
    },
    {
      "cell_type": "code",
      "metadata": {
        "id": "oku7mDTEBF-A",
        "outputId": "dc51c94d-f0d1-4ac3-eeb0-b9c7e72bdcbc",
        "colab": {
          "base_uri": "https://localhost:8080/"
        }
      },
      "source": [
        "!pip install spotipy"
      ],
      "execution_count": null,
      "outputs": [
        {
          "output_type": "stream",
          "text": [
            "Collecting spotipy\n",
            "  Downloading https://files.pythonhosted.org/packages/7a/cd/e7d9a35216ea5bfb9234785f3d8fa7c96d0e33999c2cb72394128f6b4cce/spotipy-2.16.1-py3-none-any.whl\n",
            "Requirement already satisfied: requests>=2.20.0 in /usr/local/lib/python3.6/dist-packages (from spotipy) (2.23.0)\n",
            "Requirement already satisfied: six>=1.10.0 in /usr/local/lib/python3.6/dist-packages (from spotipy) (1.15.0)\n",
            "Requirement already satisfied: urllib3!=1.25.0,!=1.25.1,<1.26,>=1.21.1 in /usr/local/lib/python3.6/dist-packages (from requests>=2.20.0->spotipy) (1.24.3)\n",
            "Requirement already satisfied: certifi>=2017.4.17 in /usr/local/lib/python3.6/dist-packages (from requests>=2.20.0->spotipy) (2020.6.20)\n",
            "Requirement already satisfied: idna<3,>=2.5 in /usr/local/lib/python3.6/dist-packages (from requests>=2.20.0->spotipy) (2.10)\n",
            "Requirement already satisfied: chardet<4,>=3.0.2 in /usr/local/lib/python3.6/dist-packages (from requests>=2.20.0->spotipy) (3.0.4)\n",
            "Installing collected packages: spotipy\n",
            "Successfully installed spotipy-2.16.1\n"
          ],
          "name": "stdout"
        }
      ]
    },
    {
      "cell_type": "code",
      "metadata": {
        "id": "9CAcTT6_AFMd"
      },
      "source": [
        "import spotipy\n",
        "from spotipy.oauth2 import SpotifyClientCredentials\n",
        "# spotify credentials for the application:\n",
        "# \"Related Artist Network Visualizer\"\n",
        "client_id = 'COLOQUE A SUA AQUI'\n",
        "client_secret = 'COLOQUE A SUA AQUI'\n",
        "# create a credential manager and api layer\n",
        "client_credentials_manager = SpotifyClientCredentials(client_id=client_id, client_secret=client_secret)\n",
        "sp = spotipy.Spotify(client_credentials_manager=client_credentials_manager)"
      ],
      "execution_count": null,
      "outputs": []
    },
    {
      "cell_type": "markdown",
      "metadata": {
        "id": "Hsa2kGO6AFMi"
      },
      "source": [
        "## Root Node\n",
        "\n",
        "I'll start with a root node of on of my favorite artists, [Bassnectar](https://www.bassnectar.net)."
      ]
    },
    {
      "cell_type": "code",
      "metadata": {
        "id": "ramQabtkAFMj"
      },
      "source": [
        "# the spotify id for the artist Bassnectar\n",
        "seed_artist = 'spotify:artist:1mCHLu4gizrN9PwHxKrJv4'"
      ],
      "execution_count": null,
      "outputs": []
    },
    {
      "cell_type": "markdown",
      "metadata": {
        "id": "kyeF6Oh-AFMm"
      },
      "source": [
        "# Building A Network\n",
        "\n",
        "To build a network, I'll use a modified form of depth limited DFS to generate a dictionary of artists to a list of related artists."
      ]
    },
    {
      "cell_type": "code",
      "metadata": {
        "id": "acr4lWmnAFMn"
      },
      "source": [
        "def related_network(artist_id, depth: int=3) -> dict:\n",
        "    \"\"\"\n",
        "    Return a dictionary of artist names to lists of their related artists.\n",
        "    \n",
        "    Args:\n",
        "        arist_id: the id of the artist to start the graph from\n",
        "        depth: the depth into the related artist network \n",
        "    \n",
        "    Returns: a dictionary of strings (artist name) to lists (related artists)\n",
        "    \"\"\"\n",
        "    graph = dict()\n",
        "    _related_network(artist_id, depth, graph)\n",
        "    return graph\n",
        "\n",
        "def _related_network(artist_id, depth, graph):\n",
        "    \"\"\"\n",
        "    Recursively collect related artists and store the results in the graph.\n",
        "    \n",
        "    Args:\n",
        "        artist_id: the artist to get the related artists of\n",
        "        depth: the current depth in the graph\n",
        "        graph: the dictionary to put the related artist results into\n",
        "    \"\"\"\n",
        "    if depth == 0:\n",
        "        return\n",
        "    name = sp.artist(artist_id)['name']\n",
        "    if name in graph.keys(): \n",
        "      print(\"revisit for \" + name)\n",
        "      return\n",
        "    print(\"fetching for \" + name)\n",
        "    like_artist = sp.artist_related_artists(artist_id)\n",
        "    graph[name] = [related['name'] for related in like_artist['artists']]\n",
        "    [_related_network(related['id'], depth - 1, graph) for related in like_artist['artists']]"
      ],
      "execution_count": null,
      "outputs": []
    },
    {
      "cell_type": "code",
      "metadata": {
        "id": "hwO8dDHDAFMq",
        "outputId": "fbeff3ec-b7af-4d26-f7cc-8360f81e3a3c",
        "colab": {
          "base_uri": "https://localhost:8080/"
        }
      },
      "source": [
        "# check the base case\n",
        "related_network(seed_artist, 1)"
      ],
      "execution_count": null,
      "outputs": [
        {
          "output_type": "stream",
          "text": [
            "fetching for Dominguinhos\n"
          ],
          "name": "stdout"
        },
        {
          "output_type": "execute_result",
          "data": {
            "text/plain": [
              "{'Dominguinhos': ['Luiz Gonzaga',\n",
              "  'Joao Do Vale',\n",
              "  'Trio Nordestino',\n",
              "  'Jackson Do Pandeiro',\n",
              "  'Moraes Moreira',\n",
              "  'Xangai',\n",
              "  'Geraldo Azevedo',\n",
              "  'João Bosco',\n",
              "  'Trio Virgulino',\n",
              "  'Luiz Melodia',\n",
              "  'Gonzaguinha',\n",
              "  'Elba Ramalho',\n",
              "  'Chico César',\n",
              "  'Sivuca',\n",
              "  'Trio Forrozão',\n",
              "  'Nelson Cavaquinho',\n",
              "  'Elza Soares',\n",
              "  'Dorival Caymmi',\n",
              "  'Clara Nunes',\n",
              "  'Hamilton De Holanda']}"
            ]
          },
          "metadata": {
            "tags": []
          },
          "execution_count": 46
        }
      ]
    },
    {
      "cell_type": "code",
      "metadata": {
        "id": "NcaVGeNXAFMt",
        "outputId": "5fdcfd41-1c97-4284-c4e6-a0794f6c217e",
        "colab": {
          "base_uri": "https://localhost:8080/"
        }
      },
      "source": [
        "like_seed = related_network(seed_artist, 5)"
      ],
      "execution_count": null,
      "outputs": [
        {
          "output_type": "stream",
          "text": [
            "fetching for Dominguinhos\n",
            "fetching for Luiz Gonzaga\n",
            "revisit for Dominguinhos\n",
            "fetching for Joao Do Vale\n",
            "fetching for Xangai\n",
            "revisit for Joao Do Vale\n",
            "fetching for Elomar\n",
            "fetching for Elomar, Geraldo Azevedo, Vital Farias e Xangai\n",
            "fetching for Quinteto Violado\n",
            "fetching for Elomar, Geraldo Azevedo, Vital Farias, Xangai\n",
            "revisit for Dominguinhos\n",
            "fetching for Geraldo Azevedo\n",
            "fetching for Walter Franco\n",
            "fetching for Moraes Moreira\n",
            "fetching for Ednardo\n",
            "fetching for Antônio Nóbrega\n",
            "fetching for Jackson Do Pandeiro\n",
            "revisit for Luiz Gonzaga\n",
            "fetching for Sivuca\n",
            "fetching for Jorge Mautner\n",
            "fetching for Mestre Ambrósio\n",
            "fetching for Itamar Assumpção\n",
            "fetching for Jards Macalé\n",
            "fetching for A Cor Do Som\n",
            "fetching for Sa & Guarabyra\n",
            "fetching for Nelson Cavaquinho\n",
            "fetching for Nelson Sargento\n",
            "fetching for Elton Medeiros\n",
            "fetching for Jamelão\n",
            "fetching for Noel Rosa\n",
            "fetching for VELHA GUARDA DA PORTELA\n",
            "fetching for Zé Keti\n",
            "fetching for Candeia\n",
            "fetching for Moreira Da Silva\n",
            "fetching for Os Originais Do Samba\n",
            "fetching for Roberto Ribeiro\n",
            "fetching for Clementina De Jesus\n",
            "fetching for Paulinho Da Viola\n",
            "fetching for Ataulfo Alves\n",
            "fetching for Dona Ivone Lara\n",
            "fetching for Aracy de Almeida\n",
            "fetching for Adoniran Barbosa\n",
            "fetching for Orlando Silva\n",
            "fetching for Pixinguinha\n",
            "fetching for Almir Guineto\n",
            "fetching for Noite Ilustrada\n",
            "revisit for Jackson Do Pandeiro\n",
            "revisit for Jards Macalé\n",
            "revisit for Dominguinhos\n",
            "revisit for Elomar, Geraldo Azevedo, Vital Farias e Xangai\n",
            "revisit for Zé Keti\n",
            "revisit for Itamar Assumpção\n",
            "revisit for Quinteto Violado\n",
            "fetching for Dorival Caymmi\n",
            "revisit for Nelson Cavaquinho\n",
            "fetching for Ary Barroso\n",
            "fetching for Elizeth Cardoso\n",
            "revisit for Pixinguinha\n",
            "revisit for Noel Rosa\n",
            "fetching for João Bosco\n",
            "fetching for Luiz Melodia\n",
            "revisit for Jards Macalé\n",
            "revisit for Zé Keti\n",
            "revisit for Paulinho Da Viola\n",
            "fetching for Elza Soares\n",
            "fetching for Dori Caymmi\n",
            "revisit for Joao Do Vale\n",
            "fetching for Miúcha\n",
            "fetching for Moacir Santos\n",
            "fetching for Baden Powell\n",
            "revisit for Clementina De Jesus\n",
            "revisit for Jackson Do Pandeiro\n",
            "revisit for Moraes Moreira\n",
            "revisit for Nelson Sargento\n",
            "revisit for Elomar\n",
            "revisit for Sivuca\n",
            "revisit for Elomar, Geraldo Azevedo, Vital Farias, Xangai\n",
            "revisit for Luiz Gonzaga\n",
            "revisit for Moraes Moreira\n",
            "fetching for Sérgio Sampaio\n",
            "revisit for Walter Franco\n",
            "revisit for Jards Macalé\n",
            "revisit for Itamar Assumpção\n",
            "revisit for Jorge Mautner\n",
            "fetching for Arnaldo Baptista\n",
            "revisit for Ednardo\n",
            "fetching for Belchior\n",
            "fetching for Baiano E Os Novos Caetanos\n",
            "fetching for Tom Zé\n",
            "revisit for Joao Do Vale\n",
            "fetching for Secos & Molhados\n",
            "fetching for Erasmo Carlos\n",
            "fetching for Ave Sangria\n",
            "fetching for Ronnie Von\n",
            "revisit for Moraes Moreira\n",
            "fetching for Novos Baianos\n",
            "revisit for Elomar, Geraldo Azevedo, Vital Farias e Xangai\n",
            "revisit for Xangai\n",
            "fetching for Wilson Simonal\n",
            "fetching for Angela Ro Ro\n",
            "revisit for Jorge Mautner\n",
            "revisit for Walter Franco\n",
            "revisit for Baiano E Os Novos Caetanos\n",
            "revisit for Luiz Melodia\n",
            "fetching for Trio Nordestino\n",
            "fetching for Trio Virgulino\n",
            "fetching for Trio Forrozão\n",
            "fetching for Bicho de Pé\n",
            "revisit for Trio Nordestino\n",
            "fetching for Raiz Do Sana\n",
            "fetching for Trio Potiguá\n",
            "fetching for Ó Do Forró\n",
            "fetching for Forrueiros\n",
            "fetching for Forroçacana\n",
            "fetching for Trio Dona Zefa\n",
            "fetching for Rastapé\n",
            "fetching for Chama Chuva\n",
            "fetching for Assisão\n",
            "fetching for Trio Sabiá\n",
            "fetching for Trio Pé De Serra\n",
            "fetching for O Bando De María\n",
            "fetching for Azulão\n",
            "fetching for Flávio José\n",
            "fetching for Arleno Farias\n",
            "fetching for Circuladô de Fulô\n",
            "fetching for Peixelétrico\n",
            "revisit for Trio Forrozão\n",
            "revisit for Dominguinhos\n",
            "revisit for Flávio José\n",
            "revisit for Assisão\n",
            "revisit for Raiz Do Sana\n",
            "revisit for Bicho de Pé\n",
            "revisit for Rastapé\n",
            "revisit for Luiz Gonzaga\n",
            "fetching for Jorge De Altinho\n",
            "fetching for Clemilda\n",
            "fetching for Frank Aguiar\n",
            "fetching for Catuaba Com Amendoim\n",
            "revisit for Flávio José\n",
            "revisit for Assisão\n",
            "fetching for Ary Lobo\n",
            "revisit for Azulão\n",
            "fetching for Capital Do Sol\n",
            "fetching for Maciel Melo\n",
            "fetching for Calango Aceso\n",
            "fetching for José Orlando\n",
            "fetching for Dorgival Dantas\n",
            "revisit for Trio Dona Zefa\n",
            "revisit for Trio Nordestino\n",
            "fetching for Rasta Chinela\n",
            "revisit for Trio Virgulino\n",
            "fetching for Targino Gondim\n",
            "revisit for Trio Pé De Serra\n",
            "fetching for Menina do Céu\n",
            "revisit for Chama Chuva\n",
            "fetching for Genival Lacerda\n",
            "revisit for Trio Nordestino\n",
            "revisit for Trio Virgulino\n",
            "fetching for Agepê\n",
            "revisit for Flávio José\n",
            "revisit for Dominguinhos\n",
            "revisit for Trio Forrozão\n",
            "revisit for Clemilda\n",
            "revisit for Assisão\n",
            "revisit for Luiz Gonzaga\n",
            "fetching for Benito Di Paula\n",
            "fetching for Wando\n",
            "fetching for Paulo Diniz\n",
            "revisit for Jorge De Altinho\n",
            "revisit for Joao Do Vale\n",
            "fetching for Amelinha\n",
            "revisit for Azulão\n",
            "revisit for Frank Aguiar\n",
            "revisit for Ary Lobo\n",
            "fetching for Reginaldo Rossi\n",
            "revisit for Xangai\n",
            "revisit for Azulão\n",
            "revisit for Ary Lobo\n",
            "revisit for Forroçacana\n",
            "revisit for Ó Do Forró\n",
            "revisit for Joao Do Vale\n",
            "revisit for Clemilda\n",
            "revisit for Xangai\n",
            "fetching for Pinto Do Acordeon\n",
            "revisit for Ó Do Forró\n",
            "revisit for Azulão\n",
            "revisit for Trio Dona Zefa\n",
            "fetching for Zinho E Banda Girassol\n",
            "revisit for Maciel Melo\n",
            "revisit for Jorge De Altinho\n",
            "revisit for Assisão\n",
            "revisit for Trio Nordestino\n",
            "revisit for Ary Lobo\n",
            "revisit for Trio Virgulino\n",
            "revisit for Trio Sabiá\n",
            "fetching for Zito Borborema\n",
            "fetching for Marinês E Sua Gente\n",
            "revisit for Trio Pé De Serra\n",
            "fetching for Trio Alvorada\n",
            "fetching for Trio Xamego\n",
            "revisit for Targino Gondim\n",
            "revisit for Trio Potiguá\n",
            "revisit for Trio Forrozão\n",
            "fetching for Ton Oliveira\n",
            "revisit for Geraldo Azevedo\n",
            "revisit for Jackson Do Pandeiro\n",
            "revisit for Geraldo Azevedo\n",
            "revisit for Xangai\n",
            "revisit for Moraes Moreira\n",
            "fetching for Nelson Gonçalves\n",
            "revisit for Jamelão\n",
            "revisit for Orlando Silva\n",
            "revisit for Nelson Cavaquinho\n",
            "revisit for Noel Rosa\n",
            "revisit for Agepê\n",
            "fetching for Altemar Dutra\n",
            "fetching for Cauby Peixoto\n",
            "revisit for Nelson Gonçalves\n",
            "revisit for Benito Di Paula\n",
            "fetching for Fafá de Belém\n",
            "fetching for Waldik Soriano\n",
            "revisit for Wando\n",
            "revisit for Jamelão\n",
            "fetching for Dalva De Oliveira\n",
            "fetching for Fernando Mendes\n",
            "revisit for Paulo Diniz\n",
            "revisit for Noite Ilustrada\n",
            "revisit for Agepê\n",
            "fetching for Moacyr Franco\n",
            "revisit for Amelinha\n",
            "fetching for Vicente Celestino\n",
            "revisit for Reginaldo Rossi\n",
            "fetching for Vanusa\n",
            "fetching for Altemar Dutra E Joanna\n",
            "fetching for The Fevers\n",
            "fetching for Fagner\n",
            "revisit for Noite Ilustrada\n",
            "revisit for Benito Di Paula\n",
            "revisit for Adoniran Barbosa\n",
            "revisit for Wilson Simonal\n",
            "revisit for Ataulfo Alves\n",
            "fetching for Francisco Alves\n",
            "fetching for Cyro Monteiro\n",
            "revisit for Orlando Silva\n",
            "revisit for Aracy de Almeida\n",
            "revisit for Ataulfo Alves\n",
            "revisit for Jamelão\n",
            "fetching for Jorge Veiga\n",
            "fetching for Carlos Galhardo\n",
            "fetching for Dolores Duran\n",
            "fetching for Silvio Caldas\n",
            "revisit for Dalva De Oliveira\n",
            "revisit for Zé Keti\n",
            "revisit for Nelson Sargento\n",
            "revisit for Nelson Cavaquinho\n",
            "revisit for Noel Rosa\n",
            "fetching for Almirante\n",
            "revisit for Moreira Da Silva\n",
            "revisit for Elton Medeiros\n",
            "fetching for Lupicínio Rodrigues\n",
            "revisit for Nelson Gonçalves\n",
            "fetching for Roberto Silva\n",
            "revisit for Nelson Sargento\n",
            "fetching for Martinho Da Vila\n",
            "revisit for Almir Guineto\n",
            "fetching for Beth Carvalho\n",
            "revisit for Nelson Cavaquinho\n",
            "revisit for Os Originais Do Samba\n",
            "revisit for Agepê\n",
            "revisit for Nelson Sargento\n",
            "fetching for Dudu Nobre\n",
            "revisit for Dona Ivone Lara\n",
            "revisit for Roberto Ribeiro\n",
            "revisit for Candeia\n",
            "revisit for Benito Di Paula\n",
            "fetching for Clara Nunes\n",
            "fetching for Alcione\n",
            "revisit for Paulinho Da Viola\n",
            "revisit for Wilson Simonal\n",
            "revisit for Adoniran Barbosa\n",
            "fetching for Diogo Nogueira\n",
            "fetching for Jorge Aragão\n",
            "fetching for Bezerra Da Silva\n",
            "fetching for Zeca Pagodinho\n",
            "fetching for Jair Rodrigues\n",
            "revisit for Wilson Simonal\n",
            "revisit for Os Originais Do Samba\n",
            "revisit for Jamelão\n",
            "revisit for Nelson Gonçalves\n",
            "revisit for Beth Carvalho\n",
            "revisit for Orlando Silva\n",
            "revisit for Nelson Cavaquinho\n",
            "revisit for Clara Nunes\n",
            "revisit for Noel Rosa\n",
            "revisit for Elizeth Cardoso\n",
            "revisit for Agepê\n",
            "revisit for Cauby Peixoto\n",
            "revisit for Adoniran Barbosa\n",
            "revisit for Nelson Sargento\n",
            "revisit for Roberto Ribeiro\n",
            "revisit for Dorival Caymmi\n",
            "fetching for Emílio Santiago\n",
            "revisit for Martinho Da Vila\n",
            "revisit for Noite Ilustrada\n",
            "revisit for Dona Ivone Lara\n",
            "revisit for Moreira Da Silva\n",
            "revisit for Os Originais Do Samba\n",
            "revisit for Elizeth Cardoso\n",
            "revisit for Cauby Peixoto\n",
            "revisit for Beth Carvalho\n",
            "revisit for Fagner\n",
            "revisit for Benito Di Paula\n",
            "revisit for Wilson Simonal\n",
            "revisit for Belchior\n",
            "revisit for Trio Virgulino\n",
            "fetching for Gonzaguinha\n",
            "revisit for João Bosco\n",
            "revisit for Luiz Melodia\n",
            "revisit for Emílio Santiago\n",
            "revisit for Fafá de Belém\n",
            "revisit for Geraldo Azevedo\n",
            "fetching for Marina Lima\n",
            "fetching for Zélia Duncan\n",
            "fetching for Adriana Calcanhotto\n",
            "fetching for Fernanda Abreu\n",
            "fetching for Zizi Possi\n",
            "revisit for Fafá de Belém\n",
            "revisit for Angela Ro Ro\n",
            "fetching for Paula Toller\n",
            "fetching for Simone\n",
            "fetching for Isabella Taviani\n",
            "fetching for Sandra De Sá\n",
            "fetching for Vander Lee\n",
            "fetching for Ney Matogrosso\n",
            "fetching for Oswaldo Montenegro\n",
            "fetching for Guilherme Arantes\n",
            "fetching for Maria Bethânia\n",
            "fetching for Rita Lee\n",
            "fetching for Dalto\n",
            "revisit for Gonzaguinha\n",
            "fetching for Luciana Mello\n",
            "fetching for Marisa Monte\n",
            "fetching for Beto Guedes\n",
            "fetching for Boca Livre\n",
            "fetching for 14 Bis\n",
            "revisit for A Cor Do Som\n",
            "revisit for Sa & Guarabyra\n",
            "fetching for Taiguara\n",
            "revisit for Guilherme Arantes\n",
            "fetching for Milton Nascimento\n",
            "revisit for Belchior\n",
            "fetching for Flavio Venturini\n",
            "revisit for Gonzaguinha\n",
            "fetching for Lô Borges\n",
            "revisit for Moraes Moreira\n",
            "revisit for Fagner\n",
            "revisit for Oswaldo Montenegro\n",
            "revisit for Paulo Diniz\n",
            "revisit for Amelinha\n",
            "fetching for Renato Teixeira\n",
            "revisit for Dalto\n",
            "fetching for Pepeu Gomes\n",
            "fetching for Geraldo Vandre\n",
            "revisit for Simone\n",
            "revisit for Moraes Moreira\n",
            "revisit for Boca Livre\n",
            "fetching for Ivan Lins\n",
            "fetching for Leila Pinheiro\n",
            "revisit for Dori Caymmi\n",
            "fetching for Danilo Caymmi\n",
            "revisit for João Bosco\n",
            "revisit for Miúcha\n",
            "fetching for Nana Caymmi\n",
            "revisit for Emílio Santiago\n",
            "fetching for Toninho Horta\n",
            "revisit for Beto Guedes\n",
            "revisit for Zizi Possi\n",
            "revisit for Boca Livre\n",
            "fetching for Toquinho\n",
            "fetching for Quarteto Em Cy\n",
            "fetching for Francis Hime\n",
            "fetching for Rosa Passos\n",
            "revisit for Gonzaguinha\n",
            "fetching for Joyce\n",
            "revisit for Marina Lima\n",
            "revisit for Simone\n",
            "revisit for Fafá de Belém\n",
            "fetching for Chico César\n",
            "revisit for Geraldo Azevedo\n",
            "revisit for Luiz Melodia\n",
            "fetching for Mart'nália\n",
            "revisit for Elza Soares\n",
            "revisit for Moraes Moreira\n",
            "revisit for Ney Matogrosso\n",
            "fetching for Mariana Aydar\n",
            "fetching for Arnaldo Antunes\n",
            "revisit for Gonzaguinha\n",
            "fetching for Lenine\n",
            "revisit for Tom Zé\n",
            "revisit for Adriana Calcanhotto\n",
            "revisit for Novos Baianos\n",
            "fetching for Céu\n",
            "revisit for Dominguinhos\n",
            "revisit for Secos & Molhados\n",
            "revisit for Vander Lee\n",
            "fetching for Gilberto Gil\n",
            "revisit for Belchior\n",
            "revisit for Xangai\n",
            "revisit for Ney Matogrosso\n",
            "fetching for Elba Ramalho\n",
            "revisit for Fafá de Belém\n",
            "revisit for Geraldo Azevedo\n",
            "revisit for Gonzaguinha\n",
            "revisit for Marina Lima\n",
            "revisit for Chico César\n",
            "revisit for Fagner\n",
            "revisit for Oswaldo Montenegro\n",
            "revisit for Vander Lee\n",
            "revisit for Zizi Possi\n",
            "revisit for Ney Matogrosso\n",
            "revisit for Simone\n",
            "revisit for Dominguinhos\n",
            "revisit for Zélia Duncan\n",
            "revisit for Adriana Calcanhotto\n",
            "revisit for Beto Guedes\n",
            "revisit for Mart'nália\n",
            "revisit for Maria Bethânia\n",
            "revisit for Amelinha\n",
            "revisit for Sandra De Sá\n",
            "fetching for Alceu Valença\n",
            "revisit for Zizi Possi\n",
            "revisit for Mart'nália\n",
            "revisit for Nana Caymmi\n",
            "revisit for Oswaldo Montenegro\n",
            "revisit for Angela Ro Ro\n",
            "revisit for Benito Di Paula\n",
            "revisit for Genival Lacerda\n",
            "revisit for Chico César\n",
            "revisit for Agepê\n",
            "revisit for Martinho Da Vila\n",
            "revisit for Adoniran Barbosa\n",
            "revisit for Clara Nunes\n",
            "revisit for Joao Do Vale\n",
            "revisit for Trio Nordestino\n",
            "revisit for Jackson Do Pandeiro\n",
            "revisit for Moraes Moreira\n",
            "revisit for Xangai\n",
            "revisit for Geraldo Azevedo\n",
            "revisit for João Bosco\n",
            "revisit for Trio Virgulino\n",
            "revisit for Luiz Melodia\n",
            "revisit for Gonzaguinha\n",
            "revisit for Elba Ramalho\n",
            "revisit for Chico César\n",
            "revisit for Sivuca\n",
            "revisit for Trio Forrozão\n",
            "revisit for Nelson Cavaquinho\n",
            "revisit for Elza Soares\n",
            "revisit for Dorival Caymmi\n",
            "revisit for Clara Nunes\n",
            "fetching for Hamilton De Holanda\n",
            "fetching for Yamandú Costa\n",
            "revisit for Hamilton De Holanda\n",
            "fetching for Raphael Rabello\n",
            "revisit for Hamilton De Holanda\n",
            "revisit for Yamandú Costa\n",
            "fetching for Paulo Moura\n",
            "fetching for Jacob Do Bandolim\n",
            "fetching for Dilermando Reis\n",
            "fetching for Raphael Rabello & Dino 7 Cordas\n",
            "fetching for Rafael Rabello\n",
            "revisit for Pixinguinha\n",
            "fetching for Paulinho Nogueira\n",
            "fetching for Paulo Bellinati\n",
            "fetching for Guinga\n",
            "fetching for Henrique Cazes\n",
            "fetching for Altamiro Carrilho\n",
            "fetching for Waldir Azevedo\n",
            "fetching for Arthur Moreira Lima\n",
            "fetching for Trio Madeira Brasil\n",
            "fetching for Paulo Moura & Raphael Rabello\n",
            "fetching for Carlos Malta\n",
            "fetching for Marco Pereira\n",
            "fetching for Garoto\n",
            "revisit for Paulo Moura\n",
            "revisit for Guinga\n",
            "revisit for Pixinguinha\n",
            "revisit for Paulinho Nogueira\n",
            "revisit for Altamiro Carrilho\n",
            "revisit for Jacob Do Bandolim\n",
            "revisit for Dilermando Reis\n",
            "fetching for Hermeto Pascoal\n",
            "revisit for Moacir Santos\n",
            "fetching for Egberto Gismonti\n",
            "revisit for Toninho Horta\n",
            "fetching for Quarteto Novo\n",
            "revisit for Sivuca\n",
            "revisit for Paulo Moura\n",
            "revisit for Guinga\n",
            "revisit for Yamandú Costa\n",
            "fetching for Naná Vasconcelos\n",
            "revisit for Hamilton De Holanda\n",
            "revisit for João Bosco\n",
            "revisit for Pixinguinha\n",
            "revisit for Baden Powell\n",
            "revisit for Jards Macalé\n",
            "revisit for Jacob Do Bandolim\n",
            "revisit for Dorival Caymmi\n",
            "fetching for Edu Lobo\n",
            "fetching for Zimbo Trio\n",
            "revisit for Tom Zé\n",
            "fetching for Airto Moreira\n",
            "revisit for Paulo Bellinati\n",
            "fetching for Renato Borghetti\n",
            "revisit for Yamandú Costa\n",
            "fetching for Luiz Marenco\n",
            "fetching for Vitor Ramil\n",
            "revisit for Hamilton De Holanda\n",
            "revisit for Paulo Moura\n",
            "fetching for Luiz Carlos Borges\n",
            "fetching for Nei Lisboa\n",
            "fetching for Mano Lima\n",
            "fetching for José Cláudio Machado\n",
            "fetching for Neto Fagundes\n",
            "fetching for Dante Ramon Ledesma\n",
            "fetching for César Passarinho\n",
            "fetching for Leopoldo Rassier\n",
            "fetching for Gilberto Monteiro\n",
            "fetching for Elton Saldanha\n",
            "revisit for Hermeto Pascoal\n",
            "fetching for Noel Guarany\n",
            "revisit for Raphael Rabello\n",
            "fetching for Pedro Ortaça\n",
            "fetching for Telmo de Lima Freitas\n",
            "revisit for João Bosco\n",
            "revisit for Egberto Gismonti\n",
            "revisit for Moacir Santos\n",
            "revisit for Waldir Azevedo\n",
            "revisit for Toninho Horta\n",
            "revisit for Dori Caymmi\n",
            "revisit for Sivuca\n",
            "revisit for Baden Powell\n",
            "revisit for Pixinguinha\n",
            "revisit for Jacob Do Bandolim\n",
            "revisit for Raphael Rabello\n",
            "revisit for Paulo Moura\n",
            "revisit for Guinga\n",
            "revisit for Paulinho Nogueira\n",
            "revisit for Henrique Cazes\n",
            "revisit for Altamiro Carrilho\n",
            "revisit for Hermeto Pascoal\n",
            "revisit for Carlos Malta\n",
            "revisit for João Bosco\n",
            "revisit for Toninho Horta\n",
            "revisit for Moacir Santos\n",
            "revisit for Egberto Gismonti\n",
            "revisit for Waldir Azevedo\n",
            "revisit for Dorival Caymmi\n",
            "revisit for Sivuca\n",
            "revisit for Dori Caymmi\n",
            "revisit for Paulo Bellinati\n"
          ],
          "name": "stdout"
        }
      ]
    },
    {
      "cell_type": "markdown",
      "metadata": {
        "id": "Ovd90TjxAFMv"
      },
      "source": [
        "# Formatting the Network for Gephi"
      ]
    },
    {
      "cell_type": "code",
      "metadata": {
        "id": "pBwIvWKgAFMw"
      },
      "source": [
        "import pandas as pd\n",
        "import numpy as np"
      ],
      "execution_count": null,
      "outputs": []
    },
    {
      "cell_type": "markdown",
      "metadata": {
        "id": "qAD24N1dAFMy"
      },
      "source": [
        "## nodes.csv"
      ]
    },
    {
      "cell_type": "code",
      "metadata": {
        "id": "H9x6RmvNAFMz"
      },
      "source": [
        "def nodes(graph: dict) -> pd.DataFrame:\n",
        "    \"\"\"\n",
        "    Return a dataframe of nodes for the given graph.\n",
        "    \n",
        "    Args:\n",
        "        graph: the graph to generate a unique table of nodes from\n",
        "        \n",
        "    Returns: a dataframe with nodes and unique ids\n",
        "    \"\"\"\n",
        "    _nodes = []\n",
        "\n",
        "    # iterate over all the artists in the list\n",
        "    for artist, related_list in graph.items():\n",
        "        _nodes.append(artist)\n",
        "        [_nodes.append(related) for related in related_list]\n",
        "\n",
        "    # keep only unique nodes\n",
        "    _nodes = np.unique(_nodes)\n",
        "    # make a dataframe to generate ids\n",
        "    _nodes = pd.DataFrame(_nodes, columns=['label'])\n",
        "    # use the index columns as the id\n",
        "    _nodes['id'] = _nodes.index\n",
        "    return _nodes"
      ],
      "execution_count": null,
      "outputs": []
    },
    {
      "cell_type": "code",
      "metadata": {
        "scrolled": true,
        "id": "YABkpEl3AFM2",
        "outputId": "3b8a80e7-80aa-4087-d374-ac30e3c69ee8",
        "colab": {
          "base_uri": "https://localhost:8080/",
          "height": 204
        }
      },
      "source": [
        "network_nodes = nodes(like_seed)\n",
        "network_nodes.head()"
      ],
      "execution_count": null,
      "outputs": [
        {
          "output_type": "execute_result",
          "data": {
            "text/html": [
              "<div>\n",
              "<style scoped>\n",
              "    .dataframe tbody tr th:only-of-type {\n",
              "        vertical-align: middle;\n",
              "    }\n",
              "\n",
              "    .dataframe tbody tr th {\n",
              "        vertical-align: top;\n",
              "    }\n",
              "\n",
              "    .dataframe thead th {\n",
              "        text-align: right;\n",
              "    }\n",
              "</style>\n",
              "<table border=\"1\" class=\"dataframe\">\n",
              "  <thead>\n",
              "    <tr style=\"text-align: right;\">\n",
              "      <th></th>\n",
              "      <th>label</th>\n",
              "      <th>id</th>\n",
              "    </tr>\n",
              "  </thead>\n",
              "  <tbody>\n",
              "    <tr>\n",
              "      <th>0</th>\n",
              "      <td>14 Bis</td>\n",
              "      <td>0</td>\n",
              "    </tr>\n",
              "    <tr>\n",
              "      <th>1</th>\n",
              "      <td>A Bolha</td>\n",
              "      <td>1</td>\n",
              "    </tr>\n",
              "    <tr>\n",
              "      <th>2</th>\n",
              "      <td>A Cor Do Som</td>\n",
              "      <td>2</td>\n",
              "    </tr>\n",
              "    <tr>\n",
              "      <th>3</th>\n",
              "      <td>Abdias</td>\n",
              "      <td>3</td>\n",
              "    </tr>\n",
              "    <tr>\n",
              "      <th>4</th>\n",
              "      <td>Abel Ferreira</td>\n",
              "      <td>4</td>\n",
              "    </tr>\n",
              "  </tbody>\n",
              "</table>\n",
              "</div>"
            ],
            "text/plain": [
              "           label  id\n",
              "0         14 Bis   0\n",
              "1        A Bolha   1\n",
              "2   A Cor Do Som   2\n",
              "3         Abdias   3\n",
              "4  Abel Ferreira   4"
            ]
          },
          "metadata": {
            "tags": []
          },
          "execution_count": 50
        }
      ]
    },
    {
      "cell_type": "markdown",
      "metadata": {
        "id": "nRh6JBLzAFM4"
      },
      "source": [
        "## edges.csv"
      ]
    },
    {
      "cell_type": "code",
      "metadata": {
        "id": "KZAUmanuAFM5"
      },
      "source": [
        "def edges(graph: dict, nodes: pd.DataFrame) -> pd.DataFrame:\n",
        "    \"\"\"\n",
        "    Return a dataframe of edges based on the graph and table of node ids.\n",
        "    \n",
        "    Args:\n",
        "        graph: the graph to find edges in\n",
        "        nodes: the table of nodes with unique node ids\n",
        "        \n",
        "    Returns: a table of targets to destinations by unique id\n",
        "    \"\"\"\n",
        "    _edges = []\n",
        "\n",
        "    for artist, related_list in graph.items():\n",
        "        artist_node = nodes['id'][nodes['label'] == artist].values[0]\n",
        "        for related in related_list:\n",
        "            related_node = nodes['id'][nodes['label'] == related].values[0]\n",
        "            _edges.append((artist_node, related_node))\n",
        "\n",
        "    return pd.DataFrame(_edges, columns=['Source','Target'])"
      ],
      "execution_count": null,
      "outputs": []
    },
    {
      "cell_type": "code",
      "metadata": {
        "id": "fe3yaJjHAFM7",
        "outputId": "52ac801b-9ef8-45d9-c9e4-69b3b8e3e743",
        "colab": {
          "base_uri": "https://localhost:8080/",
          "height": 204
        }
      },
      "source": [
        "network_edges = edges(like_seed, network_nodes)\n",
        "network_edges.head()"
      ],
      "execution_count": null,
      "outputs": [
        {
          "output_type": "execute_result",
          "data": {
            "text/html": [
              "<div>\n",
              "<style scoped>\n",
              "    .dataframe tbody tr th:only-of-type {\n",
              "        vertical-align: middle;\n",
              "    }\n",
              "\n",
              "    .dataframe tbody tr th {\n",
              "        vertical-align: top;\n",
              "    }\n",
              "\n",
              "    .dataframe thead th {\n",
              "        text-align: right;\n",
              "    }\n",
              "</style>\n",
              "<table border=\"1\" class=\"dataframe\">\n",
              "  <thead>\n",
              "    <tr style=\"text-align: right;\">\n",
              "      <th></th>\n",
              "      <th>Source</th>\n",
              "      <th>Target</th>\n",
              "    </tr>\n",
              "  </thead>\n",
              "  <tbody>\n",
              "    <tr>\n",
              "      <th>0</th>\n",
              "      <td>202</td>\n",
              "      <td>374</td>\n",
              "    </tr>\n",
              "    <tr>\n",
              "      <th>1</th>\n",
              "      <td>202</td>\n",
              "      <td>316</td>\n",
              "    </tr>\n",
              "    <tr>\n",
              "      <th>2</th>\n",
              "      <td>202</td>\n",
              "      <td>626</td>\n",
              "    </tr>\n",
              "    <tr>\n",
              "      <th>3</th>\n",
              "      <td>202</td>\n",
              "      <td>305</td>\n",
              "    </tr>\n",
              "    <tr>\n",
              "      <th>4</th>\n",
              "      <td>202</td>\n",
              "      <td>435</td>\n",
              "    </tr>\n",
              "  </tbody>\n",
              "</table>\n",
              "</div>"
            ],
            "text/plain": [
              "   Source  Target\n",
              "0     202     374\n",
              "1     202     316\n",
              "2     202     626\n",
              "3     202     305\n",
              "4     202     435"
            ]
          },
          "metadata": {
            "tags": []
          },
          "execution_count": 52
        }
      ]
    },
    {
      "cell_type": "markdown",
      "metadata": {
        "id": "zJOBkVFIAFNE"
      },
      "source": [
        "## Save CSVs "
      ]
    },
    {
      "cell_type": "code",
      "metadata": {
        "id": "AoiiZ1-LCoH_",
        "outputId": "1d4cf43a-dcbd-47f0-c7d1-454499497ed9",
        "colab": {
          "base_uri": "https://localhost:8080/",
          "height": 17
        }
      },
      "source": [
        "from google.colab import files\n",
        "network_nodes.to_csv('nodes.csv', index = False) \n",
        "files.download('nodes.csv')"
      ],
      "execution_count": null,
      "outputs": [
        {
          "output_type": "display_data",
          "data": {
            "application/javascript": [
              "\n",
              "    async function download(id, filename, size) {\n",
              "      if (!google.colab.kernel.accessAllowed) {\n",
              "        return;\n",
              "      }\n",
              "      const div = document.createElement('div');\n",
              "      const label = document.createElement('label');\n",
              "      label.textContent = `Downloading \"${filename}\": `;\n",
              "      div.appendChild(label);\n",
              "      const progress = document.createElement('progress');\n",
              "      progress.max = size;\n",
              "      div.appendChild(progress);\n",
              "      document.body.appendChild(div);\n",
              "\n",
              "      const buffers = [];\n",
              "      let downloaded = 0;\n",
              "\n",
              "      const channel = await google.colab.kernel.comms.open(id);\n",
              "      // Send a message to notify the kernel that we're ready.\n",
              "      channel.send({})\n",
              "\n",
              "      for await (const message of channel.messages) {\n",
              "        // Send a message to notify the kernel that we're ready.\n",
              "        channel.send({})\n",
              "        if (message.buffers) {\n",
              "          for (const buffer of message.buffers) {\n",
              "            buffers.push(buffer);\n",
              "            downloaded += buffer.byteLength;\n",
              "            progress.value = downloaded;\n",
              "          }\n",
              "        }\n",
              "      }\n",
              "      const blob = new Blob(buffers, {type: 'application/binary'});\n",
              "      const a = document.createElement('a');\n",
              "      a.href = window.URL.createObjectURL(blob);\n",
              "      a.download = filename;\n",
              "      div.appendChild(a);\n",
              "      a.click();\n",
              "      div.remove();\n",
              "    }\n",
              "  "
            ],
            "text/plain": [
              "<IPython.core.display.Javascript object>"
            ]
          },
          "metadata": {
            "tags": []
          }
        },
        {
          "output_type": "display_data",
          "data": {
            "application/javascript": [
              "download(\"download_5f8ccc91-df09-4059-8810-d7a0b05d9185\", \"nodes.csv\", 12672)"
            ],
            "text/plain": [
              "<IPython.core.display.Javascript object>"
            ]
          },
          "metadata": {
            "tags": []
          }
        }
      ]
    },
    {
      "cell_type": "code",
      "metadata": {
        "id": "xsu3pSqvC-SI",
        "outputId": "c3c8c6fe-53f5-4675-f6c6-2ca79606d0d2",
        "colab": {
          "base_uri": "https://localhost:8080/",
          "height": 17
        }
      },
      "source": [
        "network_edges.to_csv('edges.csv', index = False) \n",
        "files.download('edges.csv')"
      ],
      "execution_count": null,
      "outputs": [
        {
          "output_type": "display_data",
          "data": {
            "application/javascript": [
              "\n",
              "    async function download(id, filename, size) {\n",
              "      if (!google.colab.kernel.accessAllowed) {\n",
              "        return;\n",
              "      }\n",
              "      const div = document.createElement('div');\n",
              "      const label = document.createElement('label');\n",
              "      label.textContent = `Downloading \"${filename}\": `;\n",
              "      div.appendChild(label);\n",
              "      const progress = document.createElement('progress');\n",
              "      progress.max = size;\n",
              "      div.appendChild(progress);\n",
              "      document.body.appendChild(div);\n",
              "\n",
              "      const buffers = [];\n",
              "      let downloaded = 0;\n",
              "\n",
              "      const channel = await google.colab.kernel.comms.open(id);\n",
              "      // Send a message to notify the kernel that we're ready.\n",
              "      channel.send({})\n",
              "\n",
              "      for await (const message of channel.messages) {\n",
              "        // Send a message to notify the kernel that we're ready.\n",
              "        channel.send({})\n",
              "        if (message.buffers) {\n",
              "          for (const buffer of message.buffers) {\n",
              "            buffers.push(buffer);\n",
              "            downloaded += buffer.byteLength;\n",
              "            progress.value = downloaded;\n",
              "          }\n",
              "        }\n",
              "      }\n",
              "      const blob = new Blob(buffers, {type: 'application/binary'});\n",
              "      const a = document.createElement('a');\n",
              "      a.href = window.URL.createObjectURL(blob);\n",
              "      a.download = filename;\n",
              "      div.appendChild(a);\n",
              "      a.click();\n",
              "      div.remove();\n",
              "    }\n",
              "  "
            ],
            "text/plain": [
              "<IPython.core.display.Javascript object>"
            ]
          },
          "metadata": {
            "tags": []
          }
        },
        {
          "output_type": "display_data",
          "data": {
            "application/javascript": [
              "download(\"download_747439bd-b543-4a12-aa05-755735a8b361\", \"edges.csv\", 36339)"
            ],
            "text/plain": [
              "<IPython.core.display.Javascript object>"
            ]
          },
          "metadata": {
            "tags": []
          }
        }
      ]
    },
    {
      "cell_type": "code",
      "metadata": {
        "id": "ZsoJZU4yDDIO"
      },
      "source": [
        ""
      ],
      "execution_count": null,
      "outputs": []
    }
  ]
}